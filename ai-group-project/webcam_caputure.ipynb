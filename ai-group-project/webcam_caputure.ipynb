{
  "nbformat": 4,
  "nbformat_minor": 0,
  "metadata": {
    "colab": {
      "provenance": [],
      "mount_file_id": "19UrMFssTwyRXZKAcWCfJ40jrCjjNYBrS",
      "authorship_tag": "ABX9TyN7c9gGg9LIly8+yA+b/BH5",
      "include_colab_link": true
    },
    "kernelspec": {
      "name": "python3",
      "display_name": "Python 3"
    },
    "language_info": {
      "name": "python"
    }
  },
  "cells": [
    {
      "cell_type": "markdown",
      "metadata": {
        "id": "view-in-github",
        "colab_type": "text"
      },
      "source": [
        "<a href=\"https://colab.research.google.com/github/dgizdevans/edu-tsi/blob/main/ai-group-project/webcam_caputure.ipynb\" target=\"_parent\"><img src=\"https://colab.research.google.com/assets/colab-badge.svg\" alt=\"Open In Colab\"/></a>"
      ]
    },
    {
      "cell_type": "code",
      "execution_count": null,
      "metadata": {
        "colab": {
          "base_uri": "https://localhost:8080/"
        },
        "id": "uO-hamOrt8f6",
        "outputId": "d34a5326-013f-4bf0-a072-8138ff177c32"
      },
      "outputs": [
        {
          "output_type": "stream",
          "name": "stdout",
          "text": [
            "Collecting ffmpeg-python\n",
            "  Downloading ffmpeg_python-0.2.0-py3-none-any.whl.metadata (1.7 kB)\n",
            "Requirement already satisfied: future in /usr/local/lib/python3.10/dist-packages (from ffmpeg-python) (1.0.0)\n",
            "Downloading ffmpeg_python-0.2.0-py3-none-any.whl (25 kB)\n",
            "Installing collected packages: ffmpeg-python\n",
            "Successfully installed ffmpeg-python-0.2.0\n",
            "Reading package lists... Done\n",
            "Building dependency tree... Done\n",
            "Reading state information... Done\n",
            "ffmpeg is already the newest version (7:4.4.2-0ubuntu0.22.04.1).\n",
            "0 upgraded, 0 newly installed, 0 to remove and 49 not upgraded.\n"
          ]
        }
      ],
      "source": [
        "!pip install ffmpeg-python\n",
        "!apt-get install -y ffmpeg"
      ]
    },
    {
      "cell_type": "code",
      "source": [
        "import subprocess\n",
        "import time\n",
        "from datetime import datetime\n",
        "import os"
      ],
      "metadata": {
        "id": "_jVkMr4O8IT5"
      },
      "execution_count": null,
      "outputs": []
    },
    {
      "cell_type": "code",
      "source": [
        "# HLS (m3u8) stream URL with token\n",
        "stream_url = \"https://edge01.balticlivecam.com/blc/centralTirgus/tracks-v1/mono.m3u8?token=88ad9ecfef4682b19c5fa0e2e5798f89%3A1731336566444\"\n",
        "\n",
        "# Destination folder\n",
        "destination_folder = \"/content/drive/MyDrive/Colab Notebooks/content\"\n",
        "\n",
        "# Ensure the destination folder exists\n",
        "os.makedirs(destination_folder, exist_ok=True)\n",
        "\n",
        "def capture_frames():\n",
        "    while True:\n",
        "        # Set the output filename with timestamp in the destination folder\n",
        "        date = datetime.now().strftime(\"%Y%m%d_%H%M%S\")\n",
        "        filename = os.path.join(destination_folder, f\"frame_{date}.jpg\")\n",
        "\n",
        "        # Construct the ffmpeg command with headers\n",
        "        command = [\n",
        "            'ffmpeg',\n",
        "            '-headers', 'User-Agent: VLC/3.0.11 (Linux; Android 9; SM-G960F Build/PPR1.180610.011)',\n",
        "            '-headers', 'Referer: https://balticlivecam.com',\n",
        "            '-i', stream_url,\n",
        "            '-frames:v', '1',  # Capture only one frame\n",
        "            filename\n",
        "        ]\n",
        "\n",
        "        try:\n",
        "            # Run the command\n",
        "            subprocess.run(command, check=True, capture_output=True)\n",
        "            print(f\"Saved {filename}\")\n",
        "        except subprocess.CalledProcessError as e:\n",
        "            print(\"Error capturing frame:\", e.stderr.decode())\n",
        "            break\n",
        "\n",
        "        # Wait for 15 seconds before capturing the next frame\n",
        "        time.sleep(15)\n",
        "\n",
        "# Start continuous frame capture\n",
        "capture_frames()\n"
      ],
      "metadata": {
        "id": "jrlYQLTf8Glb"
      },
      "execution_count": null,
      "outputs": []
    }
  ]
}